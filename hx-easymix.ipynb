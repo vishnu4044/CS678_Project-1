{
 "cells": [
  {
   "cell_type": "code",
   "execution_count": 4,
   "id": "39ea1973-e66a-44d8-843b-d67a364157e2",
   "metadata": {},
   "outputs": [],
   "source": [
    "#Lib to be installed before running the code\n",
    " \n",
    "#!pip install numpy\n",
    "#!pip install torch\n",
    "#!pip install transformers\n",
    "#!pip install pandas\n",
    "#!pip install scikit-learn\n",
    "#!pip install tensorboard\n",
    "#!pip install sentencepiece\n"
   ]
  },
  {
   "cell_type": "code",
   "execution_count": 2,
   "id": "9d872596",
   "metadata": {},
   "outputs": [],
   "source": [
    "import os\n",
    "os.environ[\"CUDA_DEVICE_ORDER\"]=\"PCI_BUS_ID\"   \n",
    "os.environ[\"CUDA_VISIBLE_DEVICES\"]=\"1\""
   ]
  },
  {
   "cell_type": "code",
   "execution_count": 3,
   "id": "ad239020-27bb-4886-8c61-e1908e57e506",
   "metadata": {},
   "outputs": [],
   "source": [
    "#math calculation \n",
    "import numpy as np\n",
    "import pandas as pd\n",
    "\n",
    "#torch lib\n",
    "import torch\n",
    "import torch.nn as nn\n",
    "import torch.nn.functional as F\n",
    "from torch.utils.data import Dataset, DataLoader, WeightedRandomSampler\n",
    "from torch import optim\n",
    "\n",
    "#basic lib\n",
    "import sys\n",
    "import random\n",
    "import math\n",
    "import time\n",
    "from tqdm import tqdm\n",
    "\n",
    "#sklearn Lib \n",
    "from sklearn.metrics import precision_recall_fscore_support, f1_score\n",
    "from sklearn.metrics import classification_report\n",
    "from sklearn.metrics import ConfusionMatrixDisplay\n",
    "\n",
    "# Ignore warnings\n",
    "import warnings\n",
    "warnings.filterwarnings(\"ignore\")\n",
    "\n",
    "#transformer lib Autotokenizer\n",
    "from transformers import BertTokenizer, AutoTokenizer\n",
    "from transformers import BertModel, AutoModel, AutoModelForSequenceClassification\n",
    "from transformers import AdamW, get_linear_schedule_with_warmup\n",
    "from torch.utils.tensorboard import SummaryWriter\n",
    "\n",
    "#Cuda memory\n",
    "use_cuda = True if torch.cuda.is_available() else False\n",
    "device = torch.device(\"cuda\" if torch.cuda.is_available() else \"cpu\")\n",
    "\n",
    "\n",
    "\n",
    "torch.autograd.set_detect_anomaly(True)\n",
    "torch.backends.cudnn.benchmark = True\n",
    "np.random.seed(0)\n",
    "torch.manual_seed(0)\n",
    "\n",
    "base_model = 'twitter-xlm-roberta-base-sentiment'\n",
    "model_list = ['bert-base-uncased', 'bert-base-multilingual-uncased', 'google/muril-base-cased', 'xlm-roberta-base',\n",
    "              'ai4bharat/indic-bert','cardiffnlp/twitter-xlm-roberta-base','cardiffnlp/twitter-xlm-roberta-base-sentiment',\n",
    "              'cardiffnlp/twitter-roberta-base', 'cardiffnlp/twitter-roberta-base-sentiment',\n",
    "              'cardiffnlp/twitter-roberta-base-hate', 'roberta-base']\n",
    "model_path = 'mnt/saved_models/'\n",
    "results_path = 'mnt/saved_results/'"
   ]
  },
  {
   "cell_type": "code",
   "execution_count": 4,
   "id": "0da5f88b-0f84-4c67-8eba-8a90b0095c5a",
   "metadata": {},
   "outputs": [],
   "source": [
    "#to set up the dataset to train and test\n",
    "lang = 'hx'\n",
    "model_choice = 8"
   ]
  },
  {
   "cell_type": "code",
   "execution_count": 5,
   "id": "99050998-e6fc-4236-b022-6b337c2aad28",
   "metadata": {},
   "outputs": [
    {
     "data": {
      "text/plain": [
       "device(type='cpu')"
      ]
     },
     "execution_count": 5,
     "metadata": {},
     "output_type": "execute_result"
    }
   ],
   "source": [
    "writer = SummaryWriter(log_dir=\"/home/jupyter/tboard/\" + base_model + \"_\" + lang)\n",
    "device"
   ]
  },
  {
   "cell_type": "code",
   "execution_count": 6,
   "id": "9f2fcfaf-e554-4934-9494-4e162e6d8fc4",
   "metadata": {},
   "outputs": [],
   "source": [
    "#to set pre trained tokenizer for the given dataset\n",
    "tokenizer = AutoTokenizer.from_pretrained(model_list[model_choice])\n",
    "\n",
    "#max sequence Length\n",
    "MAX_SEQ_LEN = 128\n",
    "\n",
    "label_idx = 1\n",
    "text_idx = 0\n",
    "\n",
    "#to read data and augument the data we have this function \n",
    "class HateData(Dataset):\n",
    "    def __init__(self, data_path, split='train', lang='bengali', aug_prob=0.2, flip_prob=0.5):\n",
    "        self.split = split\n",
    "        self.data = pd.read_csv(data_path + split + \"_\" + lang + \".tsv\", sep='\\t', lineterminator='\\n') \n",
    "        if self.split == 'train':\n",
    "            self.label2data = {0:[], 1:[], 2:[]}\n",
    "            for i in tqdm(range(len(self.data))):\n",
    "                row = self.data.iloc[i]\n",
    "                self.label2data[row[label_idx]].append(row[text_idx])\n",
    "            self.aug_prob = aug_prob\n",
    "            self.flip_prob = flip_prob\n",
    "\n",
    "    def __len__(self):\n",
    "        return len(self.data)\n",
    "\n",
    "    \n",
    "    def __getitem__(self, index):\n",
    "        if torch.is_tensor(index):\n",
    "            index = index.tolist()\n",
    "        data = self.data.iloc[index]\n",
    "        labels = data[label_idx]\n",
    "        text = data[text_idx]\n",
    "        inputs = tokenizer(text, padding='max_length', truncation=True, max_length=MAX_SEQ_LEN)\n",
    "        input_ids = inputs['input_ids']\n",
    "        token_type_ids = np.zeros(MAX_SEQ_LEN)\n",
    "        attn_mask = inputs['attention_mask']\n",
    "        aug_text = text  \n",
    "        labels_aug = labels\n",
    "        \n",
    "        if self.split == 'train' and labels == 1:\n",
    "            if np.random.uniform() < self.aug_prob:\n",
    "                aug_text = np.random.choice(self.label2data[0])\n",
    "         \n",
    "                if np.random.uniform() < self.flip_prob:\n",
    "                    aug_text = aug_text + \" [SEP] \" + text\n",
    "                else:\n",
    "                    aug_text = text + \" [SEP] \" + aug_text \n",
    "            labels_aug = 1\n",
    "      \n",
    "        inputs_aug = tokenizer(aug_text, padding='max_length', truncation=True, max_length=MAX_SEQ_LEN)\n",
    "        input_ids_aug = inputs_aug['input_ids']\n",
    "        token_type_ids_aug = np.zeros(MAX_SEQ_LEN)\n",
    "        attn_mask_aug = inputs_aug['attention_mask']\n",
    "\n",
    "        input_ids = torch.tensor(np.vstack([input_ids, input_ids_aug]), dtype=torch.long).view(2, MAX_SEQ_LEN)\n",
    "        token_type_ids = torch.tensor(np.vstack([token_type_ids, token_type_ids_aug]), dtype=torch.long).view(2, MAX_SEQ_LEN)\n",
    "        attn_mask = torch.tensor(np.vstack([attn_mask, attn_mask_aug]), dtype=torch.long).view(2, MAX_SEQ_LEN)\n",
    "        labels = torch.tensor(np.vstack([labels, labels_aug]), dtype=torch.long).view(2)\n",
    "\n",
    "        return input_ids, attn_mask, token_type_ids, labels\n"
   ]
  },
  {
   "cell_type": "code",
   "execution_count": 7,
   "id": "cf8548d8-c91b-4ccf-a518-0635f05579ef",
   "metadata": {},
   "outputs": [],
   "source": [
    "class Classifier(nn.Module):\n",
    "    def __init__(self):\n",
    "        super(Classifier, self).__init__()\n",
    "        H1, H2, num_class = 768, 128, 3\n",
    "        self.bert = AutoModel.from_pretrained(model_list[model_choice])\n",
    "        self.clf = nn.Sequential(\n",
    "            nn.Linear(H1, H2),\n",
    "            nn.ReLU(),\n",
    "            nn.Linear(H2, H2),\n",
    "            nn.ReLU(),\n",
    "            nn.Linear(H2, num_class)\n",
    "        )\n",
    "        \n",
    "    def forward(self, input_ids, attn_mask, token_type_ids):  \n",
    "        outputs = self.bert(input_ids, attn_mask)\n",
    "        cls_emb = outputs.pooler_output \n",
    "        logits = self.clf(cls_emb)\n",
    "        return logits\n"
   ]
  },
  {
   "cell_type": "code",
   "execution_count": 8,
   "id": "b9bbaa46-9b44-49af-bb49-124e9af439ba",
   "metadata": {},
   "outputs": [],
   "source": [
    "loss_fn = nn.CrossEntropyLoss()#"
   ]
  },
  {
   "cell_type": "code",
   "execution_count": 9,
   "id": "9a4d0548-5e3d-4279-ad0b-1d9d566d3f90",
   "metadata": {},
   "outputs": [],
   "source": [
    "\n",
    "#We used this function to train the data \n",
    "\n",
    "def train(input_ids, attn_mask, token_type_ids, label, model, model_opt, scdl):\n",
    "    model_opt.zero_grad()\n",
    "    batch_size = input_ids.shape[0]\n",
    "    seq_len = input_ids.shape[1]\n",
    "    loss = 0.0\n",
    "    if use_cuda:\n",
    "        input_ids = input_ids.to(device)\n",
    "        attn_mask = attn_mask.to(device)\n",
    "        token_type_ids = token_type_ids.to(device)\n",
    "        label = label.to(device)\n",
    "    logits = model(input_ids[:,0,:], attn_mask[:,0,:], token_type_ids[:,0,:])\n",
    "    logits_aug = model(input_ids[:,1,:], attn_mask[:,1,:], token_type_ids[:,1,:])\n",
    "    loss = loss_fn(logits, label[:,0]) + loss_fn(logits_aug, label[:,1])\n",
    "    loss.backward()\n",
    "    model_opt.step()\n",
    "    scdl.step()\n",
    "    return float(loss.item())\n",
    "\n"
   ]
  },
  {
   "cell_type": "code",
   "execution_count": 10,
   "id": "9ad57855-ee8b-448e-9c03-0049d81db476",
   "metadata": {},
   "outputs": [],
   "source": [
    "\n",
    "#evaluate fuction \n",
    "def evaluate(input_ids, attn_mask, token_type_ids, label, model, mode='train'):\n",
    "   \n",
    "    batch_size = input_ids.shape[0]\n",
    "    seq_len = input_ids.shape[1]\n",
    "    with torch.no_grad():\n",
    "        if use_cuda:\n",
    "            input_ids = input_ids.to(device)\n",
    "            attn_mask = attn_mask.to(device)\n",
    "            token_type_ids = token_type_ids.to(device)\n",
    "            label = label.to(device)\n",
    "        \n",
    "        logits = model(input_ids[:,0,:], attn_mask[:,0,:], token_type_ids[:,0,:])\n",
    "        loss = loss_fn(logits, label[:,0])\n",
    "        \n",
    "        if mode == 'train':\n",
    "            return float(loss.item())\n",
    "        preds = torch.argmax(logits, dim=1).flatten()\n",
    "        return float(loss.item()), preds.cpu().numpy()\n",
    "        \n",
    "\n"
   ]
  },
  {
   "cell_type": "code",
   "execution_count": 11,
   "id": "1958148f-3d6f-4574-b799-9edf2a791f25",
   "metadata": {},
   "outputs": [],
   "source": [
    "df_test = pd.read_csv(\"data/multilingual/test_hx.tsv\", sep='\\t', lineterminator='\\n')\n",
    "gt_labels = np.array(df_test['label'])"
   ]
  },
  {
   "cell_type": "code",
   "execution_count": 11,
   "id": "f7016425-389c-45d9-8cb6-a11c73fcdb1f",
   "metadata": {},
   "outputs": [
    {
     "data": {
      "text/plain": [
       "1924"
      ]
     },
     "execution_count": 11,
     "metadata": {},
     "output_type": "execute_result"
    }
   ],
   "source": [
    "len(gt_labels)"
   ]
  },
  {
   "cell_type": "code",
   "execution_count": 13,
   "id": "dabe9a9f-e8a6-4712-bf00-ae5d75d16bd5",
   "metadata": {},
   "outputs": [],
   "source": [
    "#save the model and  train the data\n",
    "def trainIters(model, epochs, train_loader, test_loader, learning_rate=3e-5, log_step=168, valid_step=168, mode='train'):\n",
    "\n",
    "    model_opt = AdamW(model.parameters(), lr=learning_rate, eps=1e-8)\n",
    "    num_train_steps = (len(train_loader)*epochs) \n",
    "    scdl = get_linear_schedule_with_warmup(model_opt, num_warmup_steps=int(0.1*num_train_steps), num_training_steps=num_train_steps)\n",
    "\n",
    "    print(\"Initialised optimizer and lr scheduler\")\n",
    "\n",
    "    # valid_best_loss = [] \n",
    "    best_acc = 0.0 \n",
    "    tot = len(train_data) // train_loader.batch_size\n",
    "    tot_val = len(val_data) // test_loader.batch_size\n",
    "    plot_steps = 0\n",
    "    \n",
    "    for epoch in range(epochs):\n",
    "        train_loss_total = 0.0\n",
    "        train_step = 0\n",
    "        # Training\n",
    "        \n",
    "        model.train()        \n",
    "        for entry in tqdm(train_loader, total=tot, position=0, leave=True):\n",
    "            loss = train(entry[0], entry[1], entry[2], entry[3], model, model_opt, scdl)\n",
    "            plot_steps += 1\n",
    "            train_step += 1\n",
    "            # if not math.isnan(loss) :      \n",
    "            train_loss_total = train_loss_total + loss\n",
    "            \n",
    "            train_loss = train_loss_total / train_step\n",
    "            \n",
    "            if plot_steps % log_step == 0:\n",
    "                writer.add_scalar(\"Train Loss\", train_loss, plot_steps)\n",
    "            \n",
    "            if (plot_steps % valid_step == 0) or (plot_steps >= num_train_steps - 1):\n",
    "                model.eval()\n",
    "                test_pred = []\n",
    "\n",
    "                for entry in tqdm(test_loader, total=tot_val, position=0, leave=True):\n",
    "                    loss_v, pred_v = evaluate(entry[0], entry[1], entry[2], entry[3], model, mode='test')      \n",
    "                    test_pred.extend([pd for pd in pred_v])\n",
    "                val_acc = f1_score(gt_labels, test_pred, average='macro')\n",
    "                print(\"Validation F1: \" + str(val_acc))\n",
    "                writer.add_scalar(\"Val F1\", val_acc, plot_steps)\n",
    "                if val_acc > best_acc:\n",
    "                    torch.save(model.state_dict(), model_path + \"model_\" + base_model + \"_\" + lang + \"_easymix_hx\" + \".pth\") \n",
    "                    print(\"Model saved for step: \" + str(plot_steps))\n",
    "                    best_acc = val_acc         \n",
    "\n",
    "                model.train()\n",
    "            writer.flush()\n",
    "\n",
    "        print('epoch: '+str(epoch))\n",
    "        print('total loss: '+str(train_loss_total/tot))\n",
    "\n",
    "\n",
    "        "
   ]
  },
  {
   "cell_type": "code",
   "execution_count": 14,
   "id": "ed2a7f13-faa6-4e64-857e-4b47eea70546",
   "metadata": {},
   "outputs": [
    {
     "name": "stderr",
     "output_type": "stream",
     "text": [
      "100%|██████████| 15383/15383 [00:01<00:00, 9785.89it/s]\n"
     ]
    }
   ],
   "source": [
    "#Load the data \n",
    "train_data = HateData(data_path=\"data/multilingual/\", split='train', lang=lang)\n",
    "val_data = HateData(data_path=\"data/multilingual/\", split='test', lang=lang)"
   ]
  },
  {
   "cell_type": "code",
   "execution_count": 15,
   "id": "c0410c5b-dd55-4523-9ce0-247538308727",
   "metadata": {},
   "outputs": [
    {
     "name": "stdout",
     "output_type": "stream",
     "text": [
      "480.0\n"
     ]
    }
   ],
   "source": [
    "#Load the Data\n",
    "BS = 16\n",
    "dataload = DataLoader(train_data, batch_size=BS, shuffle=True)\n",
    "dataload_val = DataLoader(val_data, batch_size=BS, shuffle=False)\n",
    "print((len(train_data)/16)//2)"
   ]
  },
  {
   "cell_type": "code",
   "execution_count": 15,
   "id": "47dbc8a3-d7fc-4ab9-8b82-ea95cac708d3",
   "metadata": {
    "tags": []
   },
   "outputs": [
    {
     "name": "stderr",
     "output_type": "stream",
     "text": [
      "Some weights of RobertaModel were not initialized from the model checkpoint at cardiffnlp/twitter-roberta-base-sentiment and are newly initialized: ['roberta.pooler.dense.weight', 'roberta.pooler.dense.bias']\n",
      "You should probably TRAIN this model on a down-stream task to be able to use it for predictions and inference.\n"
     ]
    }
   ],
   "source": [
    "#Load the classifier \n",
    "model = Classifier()\n",
    "model = model.float()\n",
    "model = model.to(device)\n"
   ]
  },
  {
   "cell_type": "code",
   "execution_count": 16,
   "id": "62b6aaed-5664-4b8f-b2b5-717104c11c16",
   "metadata": {
    "collapsed": true,
    "jupyter": {
     "outputs_hidden": true
    },
    "tags": []
   },
   "outputs": [
    {
     "name": "stdout",
     "output_type": "stream",
     "text": [
      "Initialised optimizer and lr scheduler\n"
     ]
    },
    {
     "name": "stderr",
     "output_type": "stream",
     "text": [
      "121it [06:32,  3.24s/it]                         /it] \n"
     ]
    },
    {
     "name": "stdout",
     "output_type": "stream",
     "text": [
      "Validation F1: 0.502426297455825\n"
     ]
    },
    {
     "name": "stderr",
     "output_type": "stream",
     "text": [
      " 17%|█▋        | 168/961 [1:27:41<32:18:15, 146.65s/it]"
     ]
    },
    {
     "name": "stdout",
     "output_type": "stream",
     "text": [
      "Model saved for step: 168\n"
     ]
    },
    {
     "name": "stderr",
     "output_type": "stream",
     "text": [
      "121it [06:21,  3.15s/it]                         /it]  \n"
     ]
    },
    {
     "name": "stdout",
     "output_type": "stream",
     "text": [
      "Validation F1: 0.5849010847253647\n"
     ]
    },
    {
     "name": "stderr",
     "output_type": "stream",
     "text": [
      " 35%|███▍      | 336/961 [2:49:58<24:04:14, 138.65s/it]"
     ]
    },
    {
     "name": "stdout",
     "output_type": "stream",
     "text": [
      "Model saved for step: 336\n"
     ]
    },
    {
     "name": "stderr",
     "output_type": "stream",
     "text": [
      "121it [06:21,  3.16s/it]                         /it]  \n"
     ]
    },
    {
     "name": "stdout",
     "output_type": "stream",
     "text": [
      "Validation F1: 0.647090475265772\n"
     ]
    },
    {
     "name": "stderr",
     "output_type": "stream",
     "text": [
      " 52%|█████▏    | 504/961 [4:03:36<17:36:04, 138.65s/it]"
     ]
    },
    {
     "name": "stdout",
     "output_type": "stream",
     "text": [
      "Model saved for step: 504\n"
     ]
    },
    {
     "name": "stderr",
     "output_type": "stream",
     "text": [
      "121it [06:22,  3.16s/it]                         /it]  \n",
      " 70%|██████▉   | 672/961 [5:22:01<11:08:00, 138.69s/it]"
     ]
    },
    {
     "name": "stdout",
     "output_type": "stream",
     "text": [
      "Validation F1: 0.6387299170070943\n"
     ]
    },
    {
     "name": "stderr",
     "output_type": "stream",
     "text": [
      "121it [06:25,  3.19s/it]                         t]    \n",
      " 87%|████████▋ | 840/961 [6:38:47<4:43:38, 140.65s/it]"
     ]
    },
    {
     "name": "stdout",
     "output_type": "stream",
     "text": [
      "Validation F1: 0.6200146401511757\n"
     ]
    },
    {
     "name": "stderr",
     "output_type": "stream",
     "text": [
      "962it [7:29:08, 28.01s/it]                            \n"
     ]
    },
    {
     "name": "stdout",
     "output_type": "stream",
     "text": [
      "epoch: 0\n",
      "total loss: 1.6253475148645573\n"
     ]
    },
    {
     "name": "stderr",
     "output_type": "stream",
     "text": [
      "121it [06:24,  3.17s/it]                         ]\n",
      "  5%|▍         | 46/961 [25:29<35:44:33, 140.63s/it]"
     ]
    },
    {
     "name": "stdout",
     "output_type": "stream",
     "text": [
      "Validation F1: 0.6382145132425631\n"
     ]
    },
    {
     "name": "stderr",
     "output_type": "stream",
     "text": [
      "121it [05:55,  2.94s/it]                         /it]\n"
     ]
    },
    {
     "name": "stdout",
     "output_type": "stream",
     "text": [
      "Validation F1: 0.6679545774810817\n"
     ]
    },
    {
     "name": "stderr",
     "output_type": "stream",
     "text": [
      " 22%|██▏       | 214/961 [1:36:00<27:00:24, 130.15s/it]"
     ]
    },
    {
     "name": "stdout",
     "output_type": "stream",
     "text": [
      "Model saved for step: 1176\n"
     ]
    },
    {
     "name": "stderr",
     "output_type": "stream",
     "text": [
      "121it [05:54,  2.93s/it]                         /it]  \n"
     ]
    },
    {
     "name": "stdout",
     "output_type": "stream",
     "text": [
      "Validation F1: 0.6745350918939031\n"
     ]
    },
    {
     "name": "stderr",
     "output_type": "stream",
     "text": [
      " 40%|███▉      | 382/961 [2:45:57<20:44:32, 128.97s/it]"
     ]
    },
    {
     "name": "stdout",
     "output_type": "stream",
     "text": [
      "Model saved for step: 1344\n"
     ]
    },
    {
     "name": "stderr",
     "output_type": "stream",
     "text": [
      "121it [05:57,  2.96s/it]                         /it]  \n"
     ]
    },
    {
     "name": "stdout",
     "output_type": "stream",
     "text": [
      "Validation F1: 0.6765054402645277\n"
     ]
    },
    {
     "name": "stderr",
     "output_type": "stream",
     "text": [
      " 57%|█████▋    | 550/961 [3:55:39<14:55:03, 130.67s/it]"
     ]
    },
    {
     "name": "stdout",
     "output_type": "stream",
     "text": [
      "Model saved for step: 1512\n"
     ]
    },
    {
     "name": "stderr",
     "output_type": "stream",
     "text": [
      "121it [05:59,  2.97s/it]                         /it]  \n",
      " 75%|███████▍  | 718/961 [5:05:32<8:50:13, 130.92s/it]"
     ]
    },
    {
     "name": "stdout",
     "output_type": "stream",
     "text": [
      "Validation F1: 0.6748642204623859\n"
     ]
    },
    {
     "name": "stderr",
     "output_type": "stream",
     "text": [
      "121it [05:47,  2.87s/it]                         t]   \n"
     ]
    },
    {
     "name": "stdout",
     "output_type": "stream",
     "text": [
      "Validation F1: 0.681315937457268\n"
     ]
    },
    {
     "name": "stderr",
     "output_type": "stream",
     "text": [
      " 92%|█████████▏| 886/961 [6:14:44<2:38:38, 126.92s/it]"
     ]
    },
    {
     "name": "stdout",
     "output_type": "stream",
     "text": [
      "Model saved for step: 1848\n"
     ]
    },
    {
     "name": "stderr",
     "output_type": "stream",
     "text": [
      "962it [6:43:35, 25.17s/it]                            \n"
     ]
    },
    {
     "name": "stdout",
     "output_type": "stream",
     "text": [
      "epoch: 1\n",
      "total loss: 1.1924661666185874\n"
     ]
    },
    {
     "name": "stderr",
     "output_type": "stream",
     "text": [
      "121it [05:51,  2.90s/it]                         ]\n",
      " 10%|▉         | 92/961 [40:07<30:49:50, 127.72s/it]"
     ]
    },
    {
     "name": "stdout",
     "output_type": "stream",
     "text": [
      "Validation F1: 0.6762870537906297\n"
     ]
    },
    {
     "name": "stderr",
     "output_type": "stream",
     "text": [
      "121it [05:55,  2.94s/it]                         /it]\n",
      " 27%|██▋       | 260/961 [1:49:28<25:11:34, 129.38s/it]"
     ]
    },
    {
     "name": "stdout",
     "output_type": "stream",
     "text": [
      "Validation F1: 0.6733426422692133\n"
     ]
    },
    {
     "name": "stderr",
     "output_type": "stream",
     "text": [
      "121it [06:01,  2.99s/it]                         /it]  \n",
      " 45%|████▍     | 428/961 [2:58:43<19:26:23, 131.30s/it]"
     ]
    },
    {
     "name": "stdout",
     "output_type": "stream",
     "text": [
      "Validation F1: 0.6645915972614225\n"
     ]
    },
    {
     "name": "stderr",
     "output_type": "stream",
     "text": [
      "121it [05:51,  2.90s/it]                         /it]  \n"
     ]
    },
    {
     "name": "stdout",
     "output_type": "stream",
     "text": [
      "Validation F1: 0.6837822268370299\n"
     ]
    },
    {
     "name": "stderr",
     "output_type": "stream",
     "text": [
      " 62%|██████▏   | 596/961 [4:08:32<13:00:51, 128.36s/it]"
     ]
    },
    {
     "name": "stdout",
     "output_type": "stream",
     "text": [
      "Model saved for step: 2520\n"
     ]
    },
    {
     "name": "stderr",
     "output_type": "stream",
     "text": [
      "121it [05:46,  2.86s/it]                         /it]  \n",
      " 80%|███████▉  | 764/961 [5:17:30<6:53:55, 126.07s/it]"
     ]
    },
    {
     "name": "stdout",
     "output_type": "stream",
     "text": [
      "Validation F1: 0.6803363087884705\n"
     ]
    },
    {
     "name": "stderr",
     "output_type": "stream",
     "text": [
      "121it [05:59,  2.97s/it]                         t]   \n",
      " 97%|█████████▋| 932/961 [6:26:55<1:03:43, 131.85s/it]"
     ]
    },
    {
     "name": "stdout",
     "output_type": "stream",
     "text": [
      "Validation F1: 0.680817274478701\n"
     ]
    },
    {
     "name": "stderr",
     "output_type": "stream",
     "text": [
      "121it [06:04,  3.01s/it]                         t]   \n",
      "100%|██████████| 961/961 [6:44:17<00:00, 132.17s/it]"
     ]
    },
    {
     "name": "stdout",
     "output_type": "stream",
     "text": [
      "Validation F1: 0.68130827347745\n"
     ]
    },
    {
     "name": "stderr",
     "output_type": "stream",
     "text": [
      "121it [06:13,  3.08s/it]                         \n",
      "962it [6:50:43, 25.62s/it]                          "
     ]
    },
    {
     "name": "stdout",
     "output_type": "stream",
     "text": [
      "Validation F1: 0.68130827347745\n",
      "epoch: 2\n",
      "total loss: 0.8196352052576956\n"
     ]
    },
    {
     "name": "stderr",
     "output_type": "stream",
     "text": [
      "\n"
     ]
    }
   ],
   "source": [
    "#Train the data\n",
    "trainIters(model, 5, dataload, dataload_val)"
   ]
  },
  {
   "cell_type": "markdown",
   "metadata": {},
   "source": []
  },
  {
   "cell_type": "markdown",
   "id": "c1cfb1fe-2c3d-4f0d-b21d-21ce57faa3e5",
   "metadata": {},
   "source": [
    "######################## TESTING ######################"
   ]
  },
  {
   "cell_type": "code",
   "execution_count": 17,
   "id": "19bbbce2-7488-4118-ba55-8a88b7d67a03",
   "metadata": {
    "tags": []
   },
   "outputs": [
    {
     "name": "stderr",
     "output_type": "stream",
     "text": [
      "Some weights of RobertaModel were not initialized from the model checkpoint at cardiffnlp/twitter-roberta-base-sentiment and are newly initialized: ['roberta.pooler.dense.weight', 'roberta.pooler.dense.bias']\n",
      "You should probably TRAIN this model on a down-stream task to be able to use it for predictions and inference.\n"
     ]
    }
   ],
   "source": [
    "\n",
    "#Load pre trained Model\n",
    "model = Classifier()\n",
    "model.load_state_dict(torch.load(\"mnt/saved_models/Hx_robert_tws_easymix.pth\", map_location=device))\n",
    "model = model.to(device)"
   ]
  },
  {
   "cell_type": "code",
   "execution_count": 18,
   "id": "1bb602bc-5bc9-4da0-a92a-3798f2b91dca",
   "metadata": {
    "tags": []
   },
   "outputs": [],
   "source": [
    "#Load the Test Data\n",
    "test_data = HateData(data_path=\"data/multilingual/\", split='test', lang=lang)\n",
    "test_loader = DataLoader(test_data, batch_size=1, shuffle=False)"
   ]
  },
  {
   "cell_type": "code",
   "execution_count": 19,
   "id": "1d3a48d8-f73b-41ff-98e9-4ba1734cb2cc",
   "metadata": {},
   "outputs": [
    {
     "name": "stderr",
     "output_type": "stream",
     "text": [
      "100%|██████████| 1924/1924 [07:59<00:00,  4.01it/s]"
     ]
    },
    {
     "name": "stdout",
     "output_type": "stream",
     "text": [
      "Test Loss:  0.7636778038072549\n"
     ]
    },
    {
     "name": "stderr",
     "output_type": "stream",
     "text": [
      "\n"
     ]
    }
   ],
   "source": [
    "model.eval()\n",
    "test_loss = []\n",
    "test_pred = []\n",
    "\n",
    "#Record the prediction result  \n",
    "wr = open(results_path + \"test_prediction_\" + base_model + \"_\" + lang + \".txt\", \"w\")    \n",
    "for entry in tqdm(test_loader, total=len(test_data)//test_loader.batch_size, position=0, leave=True):\n",
    "    v_loss, v_pred = evaluate(entry[0], entry[1], entry[2], entry[3], model, mode='test')\n",
    "    test_loss.append(v_loss)\n",
    "    test_pred.append(v_pred)\n",
    "    wr.write(str(v_pred)+\"\\n\")\n",
    "test_loss = np.mean(test_loss)#.item()\n",
    "print(\"Test Loss: \", test_loss)\n",
    "wr.close()"
   ]
  },
  {
   "cell_type": "code",
   "execution_count": 20,
   "id": "fb8b4197-be6d-44f1-b67d-89f8d3834b75",
   "metadata": {},
   "outputs": [],
   "source": [
    "df_test = pd.read_csv(\"data/multilingual/test_\"+lang+\".tsv\", sep='\\t', lineterminator='\\n')\n",
    "gt_labels = np.array(df_test['label'])"
   ]
  },
  {
   "cell_type": "code",
   "execution_count": null,
   "id": "9198ff7c",
   "metadata": {},
   "outputs": [],
   "source": [
    "print(len(test_pred))"
   ]
  },
  {
   "cell_type": "code",
   "execution_count": 21,
   "id": "8d23d212-69ff-400c-a4e9-36173cae12a4",
   "metadata": {},
   "outputs": [
    {
     "name": "stdout",
     "output_type": "stream",
     "text": [
      "              precision    recall  f1-score   support\n",
      "\n",
      "           0     0.7666    0.7225    0.7439       782\n",
      "           1     0.5615    0.5584    0.5599       548\n",
      "           2     0.7368    0.7963    0.7654       594\n",
      "\n",
      "    accuracy                         0.6985      1924\n",
      "   macro avg     0.6883    0.6924    0.6897      1924\n",
      "weighted avg     0.6990    0.6985    0.6981      1924\n",
      "\n"
     ]
    }
   ],
   "source": [
    "print(classification_report(gt_labels, test_pred, digits=4))"
   ]
  },
  {
   "cell_type": "code",
   "execution_count": null,
   "id": "457197b8-1e12-4075-93ff-1202df2296eb",
   "metadata": {},
   "outputs": [],
   "source": [
    "ConfusionMatrixDisplay.from_predictions(gt_labels, np.array(test_pred))"
   ]
  }
 ],
 "metadata": {
  "environment": {
   "kernel": "python3",
   "name": "common-cu110.m89",
   "type": "gcloud",
   "uri": "gcr.io/deeplearning-platform-release/base-cu110:m89"
  },
  "kernelspec": {
   "display_name": "Python 3 (ipykernel)",
   "language": "python",
   "name": "python3"
  },
  "language_info": {
   "codemirror_mode": {
    "name": "ipython",
    "version": 3
   },
   "file_extension": ".py",
   "mimetype": "text/x-python",
   "name": "python",
   "nbconvert_exporter": "python",
   "pygments_lexer": "ipython3",
   "version": "3.10.13"
  }
 },
 "nbformat": 4,
 "nbformat_minor": 5
}
